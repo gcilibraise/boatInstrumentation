{
 "cells": [
  {
   "cell_type": "code",
   "execution_count": 1,
   "id": "9107c707",
   "metadata": {},
   "outputs": [],
   "source": [
    "import json"
   ]
  },
  {
   "cell_type": "code",
   "execution_count": 2,
   "id": "963df644",
   "metadata": {},
   "outputs": [],
   "source": [
    "instData = {}\n",
    "instData['data']=[]\n"
   ]
  },
  {
   "cell_type": "code",
   "execution_count": 3,
   "id": "d74baab7",
   "metadata": {},
   "outputs": [],
   "source": [
    "instData['data'].append({\n",
    "    'fileName':'instData',\n",
    "    'SeqID':0,\n",
    "    'portEngHours':0.0,\n",
    "    'stbEngHours':0.1,\n",
    "    'portRPM':0,\n",
    "    'stbRPM':1,\n",
    "    'portOilPress':1,\n",
    "    'stbOilPress':2,\n",
    "    'portCoolTemp':3,\n",
    "    'stbCoolTemp':4,\n",
    "    'portVolts':5,\n",
    "    'stbVolts':6,\n",
    "    'stbEngOn':0,\n",
    "    'portEngOn':1,\n",
    "    'gen1On':0,\n",
    "    'gen2On':1,\n",
    "    'gen2OilPress':1,\n",
    "    'gen1OilPress':2,\n",
    "    'gen1CoolTemp':3,\n",
    "    'gen2CoolTemp':4,\n",
    "    'stabOilLo':0,\n",
    "    'acPowerON':1,\n",
    "    'refrigOn':0,\n",
    "    'rearBildgeOn':0,\n",
    "    'frontBildgeOn':1,\n",
    "    'TurnOffSystem':0\n",
    "})"
   ]
  },
  {
   "cell_type": "code",
   "execution_count": 4,
   "id": "92fb2a49",
   "metadata": {},
   "outputs": [],
   "source": [
    "gageData = {}\n",
    "gageData['data']=[]\n"
   ]
  },
  {
   "cell_type": "code",
   "execution_count": 5,
   "id": "8d3cb4ef",
   "metadata": {},
   "outputs": [],
   "source": [
    "gageData['data'].append({\n",
    "    'fileName':'gageData',\n",
    "    'SeqID':0,\n",
    "    'portFuelSum':0,\n",
    "    'stbFuelSum':1,\n",
    "    'portFuelLevel':2,\n",
    "    'stbFuelLevel':3,\n",
    "    'forwWaterLevel':4,\n",
    "    'rearWaterLevel':5,\n",
    "    'forHoldLevel':6,\n",
    "    'rearHoldLevel':7,\n",
    "    'portFuelRate':8,\n",
    "    'stbFuelRate':9,\n",
    "    'stbEngOn':1,\n",
    "    'portEngOn':0,\n",
    "    'TurnOffSystem':0\n",
    "})"
   ]
  },
  {
   "cell_type": "code",
   "execution_count": 6,
   "id": "fc085246",
   "metadata": {},
   "outputs": [],
   "source": [
    "path='/home/gcilibraise/Documents/Notebooks/boatInstrumentation/'\n",
    "\n",
    "with open(path+'instData.txt','w') as outfile1:\n",
    "    json.dump(instData,outfile1)\n",
    "    \n",
    "with open(path+'gageData.txt','w') as outfile2:\n",
    "    json.dump(gageData,outfile2)\n"
   ]
  },
  {
   "cell_type": "code",
   "execution_count": 7,
   "id": "eb3bb181",
   "metadata": {},
   "outputs": [],
   "source": [
    "#read files"
   ]
  },
  {
   "cell_type": "raw",
   "id": "367ca543",
   "metadata": {},
   "source": []
  },
  {
   "cell_type": "code",
   "execution_count": 8,
   "id": "51dc0e71",
   "metadata": {},
   "outputs": [
    {
     "name": "stdout",
     "output_type": "stream",
     "text": [
      "0\n"
     ]
    }
   ],
   "source": [
    "with open(path+'instData.txt') as json_file:\n",
    "    data=json.load(json_file)\n",
    "    for p in data['data']:\n",
    "        print(p['SeqID'])\n"
   ]
  },
  {
   "cell_type": "code",
   "execution_count": 9,
   "id": "e76dd154",
   "metadata": {},
   "outputs": [
    {
     "name": "stdout",
     "output_type": "stream",
     "text": [
      "gageData\n"
     ]
    }
   ],
   "source": [
    "with open(path+'gageData.txt') as json_file:\n",
    "    data=json.load(json_file)\n",
    "    for p in data['data']:\n",
    "        print(p['fileName'])"
   ]
  },
  {
   "cell_type": "code",
   "execution_count": null,
   "id": "5f72e401",
   "metadata": {},
   "outputs": [],
   "source": []
  }
 ],
 "metadata": {
  "kernelspec": {
   "display_name": "Python 3 (ipykernel)",
   "language": "python",
   "name": "python3"
  },
  "language_info": {
   "codemirror_mode": {
    "name": "ipython",
    "version": 3
   },
   "file_extension": ".py",
   "mimetype": "text/x-python",
   "name": "python",
   "nbconvert_exporter": "python",
   "pygments_lexer": "ipython3",
   "version": "3.9.7"
  }
 },
 "nbformat": 4,
 "nbformat_minor": 5
}
